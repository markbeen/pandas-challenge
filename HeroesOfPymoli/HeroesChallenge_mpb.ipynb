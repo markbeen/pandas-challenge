{
 "cells": [
  {
   "cell_type": "code",
   "execution_count": null,
   "metadata": {},
   "outputs": [],
   "source": [
    "import pandas as pd\n",
    "import numpy as np\n",
    "import matplotlib.pyplot as plt"
   ]
  },
  {
   "cell_type": "code",
   "execution_count": null,
   "metadata": {},
   "outputs": [],
   "source": [
    "purchase_csv = \"../../Instructions/HeroesOfPymoli/Resources/purchase_data.csv\"\n"
   ]
  },
  {
   "cell_type": "code",
   "execution_count": null,
   "metadata": {},
   "outputs": [],
   "source": [
    "purchase_df = pd.read_csv(purchase_csv)\n",
    "#purchase_df.head()"
   ]
  },
  {
   "cell_type": "code",
   "execution_count": null,
   "metadata": {},
   "outputs": [],
   "source": [
    "## I checked to see if some players are represented more than once in the file using \"unique\". It appears that many players are represented more than once.\n",
    "## Therefore, the total number of individual players is less and given by the length of unique players:\n",
    "unique_df = purchase_df.drop_duplicates(subset='SN', keep='first')\n",
    "numUniquePlayers = len(unique_df.index)\n",
    "totalPlayers_df = pd.DataFrame(data={'Total Players': [numUniquePlayers]})\n",
    "totalPlayers_df\n"
   ]
  },
  {
   "cell_type": "code",
   "execution_count": null,
   "metadata": {},
   "outputs": [],
   "source": [
    "## Determine number of unique items according to \"Item Name\"\n",
    "#uniqueItemNames = purchase_df['Item Name'].unique()\n",
    "#len(uniqueItemNames)"
   ]
  },
  {
   "cell_type": "code",
   "execution_count": null,
   "metadata": {},
   "outputs": [],
   "source": [
    "## Purchasing Analysis (Total)\n",
    "\n",
    "# Determine number of unique items according to \"Item ID\". Good, they agree.\n",
    "uniqueItemIDs = purchase_df['Item ID'].unique()\n",
    "\n",
    "# Calculate average purchase price\n",
    "avgPurchasePrice = np.round(purchase_df.Price.mean(),2)\n",
    "\n",
    "# Calculate number of purchases\n",
    "numPurchases = len(purchase_df.index)\n",
    "\n",
    "# Calculate total revenue\n",
    "totalRevenue = purchase_df.Price.sum()\n",
    "\n",
    "uniqueItems_df = pd.DataFrame(data={'Number of Unique Items':[len(uniqueItemIDs)], \n",
    "                                'Average Price':[f'${avgPurchasePrice}'],\n",
    "                                'Number of Purchases':[numPurchases],\n",
    "                                'Total Revenue':[f'${totalRevenue}']})\n",
    "                               \n",
    "uniqueItems_df                                 \n"
   ]
  },
  {
   "cell_type": "code",
   "execution_count": null,
   "metadata": {},
   "outputs": [],
   "source": [
    "## Gender Demographics\n",
    "\n",
    "#Filter dataframe according to gender\n",
    "# Gender count should be evaluated according to unique players (otherwise, the gender of some individuals will be weighed more heavily)\n",
    "theUniqueMales = unique_df.Gender == 'Male'\n",
    "theUniqueFemales = unique_df.Gender == 'Female'\n",
    "uniqueNonDisclosed = unique_df.Gender == 'Other / Non-Disclosed'\n",
    "\n",
    "uniqueMaleCount = len(unique_df[theUniqueMales])\n",
    "uniqueFemaleCount = len(unique_df[theUniqueFemales])\n",
    "uniqueNonDisclosedCount = len(unique_df[uniqueNonDisclosed])\n",
    "\n",
    "uniqueMalePercent = 100 * uniqueMaleCount/(uniqueMaleCount+uniqueFemaleCount+uniqueNonDisclosedCount)\n",
    "uniqueFemalePercent = 100 * uniqueFemaleCount/(uniqueMaleCount+uniqueFemaleCount+uniqueNonDisclosedCount)\n",
    "uniqueNonDisclosedPercent = 100 * uniqueNonDisclosedCount/(uniqueMaleCount+uniqueFemaleCount+uniqueNonDisclosedCount)\n",
    "\n",
    "# make data frame\n",
    "genderDemographics = pd.DataFrame(data={'Total Count':[uniqueMaleCount, uniqueFemaleCount, uniqueNonDisclosedCount], \n",
    "                                       'Percentage of Players':[f'{round(uniqueMalePercent,2)}%', f'{round(uniqueFemalePercent,2)}%', f'{round(uniqueNonDisclosedPercent,2)}%']})\n",
    "\n",
    "# add row titles\n",
    "genderDemographics.index = ['Male', 'Female', 'Other / Non-Disclosed']  \n",
    "genderDemographics"
   ]
  },
  {
   "cell_type": "code",
   "execution_count": null,
   "metadata": {},
   "outputs": [],
   "source": [
    "## Purchasing Analysis (Gender)\n",
    "\n",
    "# Should be calculated from the total pool of players\n",
    "allMales = purchase_df.Gender == 'Male'\n",
    "allFemales = purchase_df.Gender == 'Female'\n",
    "allNonDisclosed = purchase_df.Gender == 'Other / Non-Disclosed'\n",
    "\n",
    "# Purchase count according to gender\n",
    "malePurchaseCount = len(purchase_df[allMales])\n",
    "femalePurchaseCount = len(purchase_df[allFemales])\n",
    "nonDisclosedPurchaseCount = len(purchase_df[allNonDisclosed])\n",
    "\n",
    "# Total Purchase Price according to gender\n",
    "totalMalePurchasePrice = round(purchase_df.Price[allMales].sum(), 2)\n",
    "totalFemalePurchasePrice = round(purchase_df.Price[allFemales].sum(), 2)\n",
    "totalNonDisclosedPurchasePrice = round(purchase_df.Price[allNonDisclosed].sum(), 2)\n",
    "\n",
    "# Average Purchase Price according to gender\n",
    "avgMalePurchasePrice = round(totalMalePurchasePrice/malePurchaseCount, 2) \n",
    "avgFemalePurchasePrice = round(totalFemalePurchasePrice/femalePurchaseCount, 2) \n",
    "avgNonDisclosedPurchasePrice = round(totalNonDisclosedPurchasePrice/nonDisclosedPurchaseCount,2)\n",
    "\n",
    "# Average Total Purchase Per Person\n",
    "avgTotalPurchaseMale = round(totalMalePurchasePrice/uniqueMaleCount, 2)\n",
    "avgTotalPurchaseFemale = round(totalFemalePurchasePrice/uniqueFemaleCount, 2)\n",
    "avtTotalPurchaseNonDisclosed = round(totalNonDisclosedPurchasePrice/uniqueNonDisclosedCount, 2)\n",
    "\n",
    "# make data frame\n",
    "genderPurchasingAnalysis_df = pd.DataFrame(data={'Purchase Count':[femalePurchaseCount, malePurchaseCount, nonDisclosedPurchaseCount], \n",
    "                                                 'Average Purchase Price':[f'${avgFemalePurchasePrice}', f'${avgMalePurchasePrice}', f'${avgNonDisclosedPurchasePrice}'],\n",
    "                                                 'Total Purchase Price':[f'${totalFemalePurchasePrice}', f'${totalMalePurchasePrice}', f'${totalNonDisclosedPurchasePrice}'],\n",
    "                                                 'Avg Total Purchase per Person':[f'${avgTotalPurchaseFemale}', f'${avgTotalPurchaseMale}', f'${avtTotalPurchaseNonDisclosed}'] })\n",
    "\n",
    "# add row titles\n",
    "genderPurchasingAnalysis_df.index = ['Female', 'Male', 'Other / Non-Disclosed'] \n",
    "\n",
    "# show data frame\n",
    "genderPurchasingAnalysis_df"
   ]
  },
  {
   "cell_type": "code",
   "execution_count": null,
   "metadata": {},
   "outputs": [],
   "source": [
    "unique_df.dtypes"
   ]
  },
  {
   "cell_type": "code",
   "execution_count": 48,
   "metadata": {},
   "outputs": [
    {
     "data": {
      "text/html": [
       "<div>\n",
       "<style scoped>\n",
       "    .dataframe tbody tr th:only-of-type {\n",
       "        vertical-align: middle;\n",
       "    }\n",
       "\n",
       "    .dataframe tbody tr th {\n",
       "        vertical-align: top;\n",
       "    }\n",
       "\n",
       "    .dataframe thead th {\n",
       "        text-align: right;\n",
       "    }\n",
       "</style>\n",
       "<table border=\"1\" class=\"dataframe\">\n",
       "  <thead>\n",
       "    <tr style=\"text-align: right;\">\n",
       "      <th></th>\n",
       "      <th>Purchase Counts</th>\n",
       "      <th>Average Purchase Price</th>\n",
       "      <th>Total Purchase Price</th>\n",
       "      <th>Avg Total Purchase per Person</th>\n",
       "    </tr>\n",
       "  </thead>\n",
       "  <tbody>\n",
       "    <tr>\n",
       "      <th>(0, 9]</th>\n",
       "      <td>17</td>\n",
       "      <td>3.35</td>\n",
       "      <td>77.13</td>\n",
       "      <td>4.54</td>\n",
       "    </tr>\n",
       "    <tr>\n",
       "      <th>(9, 14]</th>\n",
       "      <td>22</td>\n",
       "      <td>2.96</td>\n",
       "      <td>82.78</td>\n",
       "      <td>3.76</td>\n",
       "    </tr>\n",
       "    <tr>\n",
       "      <th>(14, 19]</th>\n",
       "      <td>107</td>\n",
       "      <td>3.04</td>\n",
       "      <td>412.89</td>\n",
       "      <td>3.86</td>\n",
       "    </tr>\n",
       "    <tr>\n",
       "      <th>(19, 24]</th>\n",
       "      <td>258</td>\n",
       "      <td>3.05</td>\n",
       "      <td>1114.06</td>\n",
       "      <td>4.32</td>\n",
       "    </tr>\n",
       "    <tr>\n",
       "      <th>(24, 29]</th>\n",
       "      <td>77</td>\n",
       "      <td>2.90</td>\n",
       "      <td>293.00</td>\n",
       "      <td>3.81</td>\n",
       "    </tr>\n",
       "    <tr>\n",
       "      <th>(29, 34]</th>\n",
       "      <td>52</td>\n",
       "      <td>2.93</td>\n",
       "      <td>214.00</td>\n",
       "      <td>4.12</td>\n",
       "    </tr>\n",
       "    <tr>\n",
       "      <th>(34, 39]</th>\n",
       "      <td>31</td>\n",
       "      <td>3.60</td>\n",
       "      <td>147.67</td>\n",
       "      <td>4.76</td>\n",
       "    </tr>\n",
       "    <tr>\n",
       "      <th>(39, 50]</th>\n",
       "      <td>12</td>\n",
       "      <td>2.94</td>\n",
       "      <td>38.24</td>\n",
       "      <td>3.19</td>\n",
       "    </tr>\n",
       "  </tbody>\n",
       "</table>\n",
       "</div>"
      ],
      "text/plain": [
       "          Purchase Counts  Average Purchase Price  Total Purchase Price  \\\n",
       "(0, 9]                 17                    3.35                 77.13   \n",
       "(9, 14]                22                    2.96                 82.78   \n",
       "(14, 19]              107                    3.04                412.89   \n",
       "(19, 24]              258                    3.05               1114.06   \n",
       "(24, 29]               77                    2.90                293.00   \n",
       "(29, 34]               52                    2.93                214.00   \n",
       "(34, 39]               31                    3.60                147.67   \n",
       "(39, 50]               12                    2.94                 38.24   \n",
       "\n",
       "          Avg Total Purchase per Person  \n",
       "(0, 9]                             4.54  \n",
       "(9, 14]                            3.76  \n",
       "(14, 19]                           3.86  \n",
       "(19, 24]                           4.32  \n",
       "(24, 29]                           3.81  \n",
       "(29, 34]                           4.12  \n",
       "(34, 39]                           4.76  \n",
       "(39, 50]                           3.19  "
      ]
     },
     "execution_count": 48,
     "metadata": {},
     "output_type": "execute_result"
    }
   ],
   "source": [
    "## Age Demographics\n",
    "# create bins\n",
    "maxAge = unique_df.Age.max()\n",
    "ageBins = list(range(9,40,5))\n",
    "ageBins.insert(0,0)\n",
    "ageBins.append(50)\n",
    "\n",
    "# use 'cut' to bin the data\n",
    "purchase_df['ageData'] = pd.cut(purchase_df['Age'], bins=ageBins)\n",
    "\n",
    "# get counts in each age bin\n",
    "ageData = pd.cut(unique_df['Age'], bins=ageBins).value_counts()\n",
    "\n",
    "# apply binned data to other series\n",
    "AvgPurchasePrice = purchase_df.groupby(['ageData'])['Price'].mean()\n",
    "SumPurchasePrice = purchase_df.groupby(['ageData'])['Price'].sum()\n",
    "AvgPerPerson = SumPurchasePrice/ageData\n",
    "\n",
    "# create data frame\n",
    "ageDemographics = pd.DataFrame(data={'Purchase Counts':ageData,\n",
    "                            'Average Purchase Price':round(AvgPurchasePrice,2),\n",
    "                            'Total Purchase Price':SumPurchasePrice,\n",
    "                            'Avg Total Purchase per Person':round(AvgPerPerson,2)})\n",
    "\n",
    "ageDemographics\n",
    "\n"
   ]
  },
  {
   "cell_type": "code",
   "execution_count": 34,
   "metadata": {},
   "outputs": [
    {
     "data": {
      "text/plain": [
       "(19, 24]    365\n",
       "(14, 19]    136\n",
       "(24, 29]    101\n",
       "(29, 34]     73\n",
       "(34, 39]     41\n",
       "(9, 14]      28\n",
       "(0, 9]       23\n",
       "(39, 44]     12\n",
       "(44, 49]      1\n",
       "Name: Age, dtype: int64"
      ]
     },
     "execution_count": 34,
     "metadata": {},
     "output_type": "execute_result"
    }
   ],
   "source": [
    "## Age Demographics\n",
    "maxAge = purchase_df.Age.max()\n",
    "ageBins = list(range(9,50,5))\n",
    "ageBins.insert(0,0)\n",
    "ageData = pd.cut(purchase_df['Age'], bins=ageBins).value_counts()\n",
    "\n",
    "\n",
    "\n",
    "\n",
    "#ser, bins = pd.cut(purchase_df['Age'], bins=ageBins, retbins=True, labels=False)\n",
    "#priceBinned = pd.cut(purchase_df['Price'], bins=bins, labels=False, include_lowest=True)\n",
    "ageData\n",
    "#plt.plot(priceBinned)\n"
   ]
  },
  {
   "cell_type": "code",
   "execution_count": null,
   "metadata": {},
   "outputs": [],
   "source": [
    "ageBins = list(range(9,50,5))\n",
    "ageBins.insert(0,0)\n",
    "groups = purchase_df.groupby(['Price', pd.cut(purchase_df.Age, ageBins)])\n",
    "#ageData = pd.cut(purchase_df['Age'], bins=ageBins)[\"Price\"]#.mean()\n",
    "#ageData = purchase_df.groupby(ageBins)['Age'].agg(['count', 'sum'])\n",
    "#groups = purchase_df.groupby(pd.cut(purchase_df['Price'], bins))\n",
    "#priceAge=groups.Price\n",
    "#priceAge.value_counts()\n",
    "groups.Price.sum()"
   ]
  },
  {
   "cell_type": "code",
   "execution_count": null,
   "metadata": {},
   "outputs": [],
   "source": [
    "#binOne = purchase_df['Age'] <10\n",
    "binOne = purchase_df[purchase_df['Age'] <10]\n",
    "binOneUnique  = unique_df[purchase_df['Age'] <10]\n",
    "binOneMean = binOne.Price.mean()\n",
    "binOneSum = binOne.Price.sum()\n",
    "headCount = len(binOneUnique)\n",
    "print(binOneMean)\n",
    "print(binOneSum)\n",
    "print(binOneSum/headCount)"
   ]
  },
  {
   "cell_type": "code",
   "execution_count": null,
   "metadata": {},
   "outputs": [],
   "source": [
    "b1 = 10\n",
    "b2 = 14\n",
    "binTwo = purchase_df[purchase_df['Age'] > 10] & purchase_df[purchase_df['Age'] < 14]"
   ]
  },
  {
   "cell_type": "code",
   "execution_count": null,
   "metadata": {},
   "outputs": [],
   "source": [
    "b1 = 10\n",
    "b2 = 14\n",
    "binTwo = purchase_df[purchase_df['Age'] > b1] & purchase_df[purchase_df['Age'] < b2]\n",
    "#binTwoUnique  = unique_df[purchase_df['Age'] > b1] & unique_df[purchase_df['Age'] < b2]\n",
    "#binTwoMean = binTwo.Price.mean()\n",
    "#binTwoSum = binTwo.Price.sum()\n",
    "headCount = len(binTwoUnique)\n",
    "print(binTwoMean)\n",
    "print(binTwoSum)\n",
    "print(binTwoSum/headCount)"
   ]
  },
  {
   "cell_type": "code",
   "execution_count": null,
   "metadata": {},
   "outputs": [],
   "source": [
    "# print the summary: \n",
    "print(\"Player Count\")\n",
    "print(f'The total number of players is {totalPlayerCount}. However, as some players appear to have played multiple times, the number of unique players is {numUniquePlayers}.\\n')\n",
    "print(\"Purchasing Analysis (Total)\")\n",
    "print(f'The number of unique items is {numUniqueItems}.')\n",
    "print(f'The average purchase price is ${avgPurchasePrice}. This is based on the # of total players.')\n",
    "print(f'The total revenue is ${sumPurchasePrice}. This is based on the # of total players.\\n')\n",
    "print(\"Gender Demographics\")\n",
    "print(f'Percentage and Count of Male Players: {maleCount} ({round(malePercent,2)}%. This based on the # of unique players.')\n",
    "print(f'Percentage and Count of Female Players: {femaleCount}, ({round(femalePercent,2)}%). This based on the # of unique players.')\n",
    "print(f'Percentage and Count of Non-Disclosed Players: {nonDisclosedCount} ({round(nonDisclosedPercent,2)}%). This based on the # of unique players.\\n')\n",
    "print(\"Purchasing Analysis (Gender)\")\n",
    "print(f'The total purchase count by males, females, and other/non-disclosed individuals is {malePurchaseCount}, {femalePurchaseCount}, and {nonDisclosedPurchaseCount}, respectively.')\n",
    "print(f'The average purchase count by males, females, and other/non-disclosed individuals is ${avgMalePurchasePrice}, ${avgFemalePurchasePrice}, and ${avgNonDisclosedPurchasePrice}, respectively.')\n",
    "print(f'The total purchase value by males, females, and other/non-disclosed individuals is ${totalMalePurchasePrice}, ${totalFemalePurchasePrice}, and ${totalNonDisclosedPurchasePrice}, respectively.')\n",
    "print(\"MISSING LAST BULLET \\n\")\n",
    "print(\"Age Demographics\")"
   ]
  },
  {
   "cell_type": "code",
   "execution_count": null,
   "metadata": {},
   "outputs": [],
   "source": []
  },
  {
   "cell_type": "code",
   "execution_count": null,
   "metadata": {},
   "outputs": [],
   "source": []
  },
  {
   "cell_type": "code",
   "execution_count": null,
   "metadata": {},
   "outputs": [],
   "source": []
  },
  {
   "cell_type": "code",
   "execution_count": null,
   "metadata": {},
   "outputs": [],
   "source": []
  }
 ],
 "metadata": {
  "kernelspec": {
   "display_name": "Python 3",
   "language": "python",
   "name": "python3"
  },
  "language_info": {
   "codemirror_mode": {
    "name": "ipython",
    "version": 3
   },
   "file_extension": ".py",
   "mimetype": "text/x-python",
   "name": "python",
   "nbconvert_exporter": "python",
   "pygments_lexer": "ipython3",
   "version": "3.8.3"
  }
 },
 "nbformat": 4,
 "nbformat_minor": 4
}
