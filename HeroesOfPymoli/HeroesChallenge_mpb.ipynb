{
 "cells": [
  {
   "cell_type": "code",
   "execution_count": 67,
   "metadata": {},
   "outputs": [],
   "source": [
    "import pandas as pd\n",
    "import numpy as np"
   ]
  },
  {
   "cell_type": "code",
   "execution_count": 68,
   "metadata": {},
   "outputs": [],
   "source": [
    "purchase_csv = \"../../Instructions/HeroesOfPymoli/Resources/purchase_data.csv\"\n"
   ]
  },
  {
   "cell_type": "code",
   "execution_count": 69,
   "metadata": {},
   "outputs": [],
   "source": [
    "purchase_df = pd.read_csv(purchase_csv)\n",
    "#purchase_df.head()"
   ]
  },
  {
   "cell_type": "code",
   "execution_count": 78,
   "metadata": {},
   "outputs": [
    {
     "data": {
      "text/html": [
       "<div>\n",
       "<style scoped>\n",
       "    .dataframe tbody tr th:only-of-type {\n",
       "        vertical-align: middle;\n",
       "    }\n",
       "\n",
       "    .dataframe tbody tr th {\n",
       "        vertical-align: top;\n",
       "    }\n",
       "\n",
       "    .dataframe thead th {\n",
       "        text-align: right;\n",
       "    }\n",
       "</style>\n",
       "<table border=\"1\" class=\"dataframe\">\n",
       "  <thead>\n",
       "    <tr style=\"text-align: right;\">\n",
       "      <th></th>\n",
       "      <th>Total Players</th>\n",
       "    </tr>\n",
       "  </thead>\n",
       "  <tbody>\n",
       "    <tr>\n",
       "      <th>0</th>\n",
       "      <td>576</td>\n",
       "    </tr>\n",
       "  </tbody>\n",
       "</table>\n",
       "</div>"
      ],
      "text/plain": [
       "   Total Players\n",
       "0            576"
      ]
     },
     "execution_count": 78,
     "metadata": {},
     "output_type": "execute_result"
    }
   ],
   "source": [
    "## I checked to see if some players are represented more than once in the file using \"unique\". It appears that many players are represented more than once.\n",
    "## Therefore, the total number of individual players is less and given by the length of unique players:\n",
    "unique_df = purchase_df.drop_duplicates(subset='SN', keep='first')\n",
    "numUniquePlayers = len(unique_df.index)\n",
    "totalPlayers_df = pd.DataFrame(data={'Total Players': [numUniquePlayers]})\n",
    "totalPlayers_df\n"
   ]
  },
  {
   "cell_type": "code",
   "execution_count": 19,
   "metadata": {},
   "outputs": [],
   "source": [
    "## Determine number of unique items according to \"Item Name\"\n",
    "#uniqueItemNames = purchase_df['Item Name'].unique()\n",
    "#len(uniqueItemNames)"
   ]
  },
  {
   "cell_type": "code",
   "execution_count": 101,
   "metadata": {},
   "outputs": [
    {
     "data": {
      "text/html": [
       "<div>\n",
       "<style scoped>\n",
       "    .dataframe tbody tr th:only-of-type {\n",
       "        vertical-align: middle;\n",
       "    }\n",
       "\n",
       "    .dataframe tbody tr th {\n",
       "        vertical-align: top;\n",
       "    }\n",
       "\n",
       "    .dataframe thead th {\n",
       "        text-align: right;\n",
       "    }\n",
       "</style>\n",
       "<table border=\"1\" class=\"dataframe\">\n",
       "  <thead>\n",
       "    <tr style=\"text-align: right;\">\n",
       "      <th></th>\n",
       "      <th>Number of Unique Items</th>\n",
       "      <th>Average Price</th>\n",
       "      <th>Number of Purchases</th>\n",
       "      <th>Total Revenue</th>\n",
       "    </tr>\n",
       "  </thead>\n",
       "  <tbody>\n",
       "    <tr>\n",
       "      <th>0</th>\n",
       "      <td>179</td>\n",
       "      <td>$3.05</td>\n",
       "      <td>780</td>\n",
       "      <td>$2379.77</td>\n",
       "    </tr>\n",
       "  </tbody>\n",
       "</table>\n",
       "</div>"
      ],
      "text/plain": [
       "   Number of Unique Items Average Price  Number of Purchases Total Revenue\n",
       "0                     179         $3.05                  780      $2379.77"
      ]
     },
     "execution_count": 101,
     "metadata": {},
     "output_type": "execute_result"
    }
   ],
   "source": [
    "## Purchasing Analysis (Total)\n",
    "\n",
    "# Determine number of unique items according to \"Item ID\". Good, they agree.\n",
    "uniqueItemIDs = purchase_df['Item ID'].unique()\n",
    "\n",
    "# Calculate average purchase price\n",
    "avgPurchasePrice = np.round(purchase_df.Price.mean(),2)\n",
    "\n",
    "# Calculate number of purchases\n",
    "numPurchases = len(purchase_df.index)\n",
    "\n",
    "# Calculate total revenue\n",
    "totalRevenue = purchase_df.Price.sum()\n",
    "\n",
    "uniqueItems_df = pd.DataFrame(data={'Number of Unique Items':[len(uniqueItemIDs)], \n",
    "                                'Average Price':[f'${avgPurchasePrice}'],\n",
    "                                'Number of Purchases':[numPurchases],\n",
    "                                'Total Revenue':[f'${totalRevenue}']})\n",
    "                               \n",
    "uniqueItems_df                                 \n"
   ]
  },
  {
   "cell_type": "code",
   "execution_count": 122,
   "metadata": {},
   "outputs": [
    {
     "data": {
      "text/html": [
       "<div>\n",
       "<style scoped>\n",
       "    .dataframe tbody tr th:only-of-type {\n",
       "        vertical-align: middle;\n",
       "    }\n",
       "\n",
       "    .dataframe tbody tr th {\n",
       "        vertical-align: top;\n",
       "    }\n",
       "\n",
       "    .dataframe thead th {\n",
       "        text-align: right;\n",
       "    }\n",
       "</style>\n",
       "<table border=\"1\" class=\"dataframe\">\n",
       "  <thead>\n",
       "    <tr style=\"text-align: right;\">\n",
       "      <th></th>\n",
       "      <th>Total Count</th>\n",
       "      <th>Percentage of Players</th>\n",
       "    </tr>\n",
       "  </thead>\n",
       "  <tbody>\n",
       "    <tr>\n",
       "      <th>Male</th>\n",
       "      <td>484</td>\n",
       "      <td>84.03%</td>\n",
       "    </tr>\n",
       "    <tr>\n",
       "      <th>Female</th>\n",
       "      <td>81</td>\n",
       "      <td>14.06%</td>\n",
       "    </tr>\n",
       "    <tr>\n",
       "      <th>Other / Non-Disclosed</th>\n",
       "      <td>11</td>\n",
       "      <td>1.91%</td>\n",
       "    </tr>\n",
       "  </tbody>\n",
       "</table>\n",
       "</div>"
      ],
      "text/plain": [
       "                       Total Count Percentage of Players\n",
       "Male                           484                84.03%\n",
       "Female                          81                14.06%\n",
       "Other / Non-Disclosed           11                 1.91%"
      ]
     },
     "execution_count": 122,
     "metadata": {},
     "output_type": "execute_result"
    }
   ],
   "source": [
    "## Gender Demographics\n",
    "\n",
    "#Filter dataframe according to gender\n",
    "# Gender count should be evaluated according to unique players (otherwise, the gender of some individuals will be weighed more heavily)\n",
    "theUniqueMales = unique_df.Gender == 'Male'\n",
    "theUniqueFemales = unique_df.Gender == 'Female'\n",
    "uniqueNonDisclosed = unique_df.Gender == 'Other / Non-Disclosed'\n",
    "\n",
    "uniqueMaleCount = len(unique_df[theUniqueMales])\n",
    "uniqueFemaleCount = len(unique_df[theUniqueFemales])\n",
    "uniqueNonDisclosedCount = len(unique_df[uniqueNnonDisclosed])\n",
    "\n",
    "uniqueMalePercent = 100 * uniqueMaleCount/(uniqueMaleCount+uniqueFemaleCount+uniqueNonDisclosedCount)\n",
    "uniqueFemalePercent = 100 * uniqueFemaleCount/(uniqueMaleCount+uniqueFemaleCount+uniqueNonDisclosedCount)\n",
    "uniqueNonDisclosedPercent = 100 * uniqueNonDisclosedCount/(uniqueMaleCount+uniqueFemaleCount+uniqueNonDisclosedCount)\n",
    "\n",
    "# make data frame\n",
    "genderDemographics = pd.DataFrame(data={'Total Count':[uniqueMaleCount, uniqueFemaleCount, uniqueNonDisclosedCount], \n",
    "                                       'Percentage of Players':[f'{round(uniqueMalePercent,2)}%', f'{round(uniqueFemalePercent,2)}%', f'{round(uniqueNonDisclosedPercent,2)}%']})\n",
    "\n",
    "# add row titles\n",
    "genderDemographics.index = ['Male', 'Female', 'Other / Non-Disclosed']  \n",
    "genderDemographics"
   ]
  },
  {
   "cell_type": "code",
   "execution_count": 132,
   "metadata": {},
   "outputs": [
    {
     "data": {
      "text/html": [
       "<div>\n",
       "<style scoped>\n",
       "    .dataframe tbody tr th:only-of-type {\n",
       "        vertical-align: middle;\n",
       "    }\n",
       "\n",
       "    .dataframe tbody tr th {\n",
       "        vertical-align: top;\n",
       "    }\n",
       "\n",
       "    .dataframe thead th {\n",
       "        text-align: right;\n",
       "    }\n",
       "</style>\n",
       "<table border=\"1\" class=\"dataframe\">\n",
       "  <thead>\n",
       "    <tr style=\"text-align: right;\">\n",
       "      <th></th>\n",
       "      <th>Purchase Count</th>\n",
       "      <th>Average Purchase Price</th>\n",
       "      <th>Total Purchase Price</th>\n",
       "      <th>Avg Total Purchase per Person</th>\n",
       "    </tr>\n",
       "  </thead>\n",
       "  <tbody>\n",
       "    <tr>\n",
       "      <th>Female</th>\n",
       "      <td>113</td>\n",
       "      <td>$3.2</td>\n",
       "      <td>$361.94</td>\n",
       "      <td>$4.47</td>\n",
       "    </tr>\n",
       "    <tr>\n",
       "      <th>Male</th>\n",
       "      <td>652</td>\n",
       "      <td>$3.02</td>\n",
       "      <td>$1967.64</td>\n",
       "      <td>$4.07</td>\n",
       "    </tr>\n",
       "    <tr>\n",
       "      <th>Other / Non-Disclosed</th>\n",
       "      <td>15</td>\n",
       "      <td>$3.35</td>\n",
       "      <td>$50.19</td>\n",
       "      <td>$4.56</td>\n",
       "    </tr>\n",
       "  </tbody>\n",
       "</table>\n",
       "</div>"
      ],
      "text/plain": [
       "                       Purchase Count Average Purchase Price  \\\n",
       "Female                            113                   $3.2   \n",
       "Male                              652                  $3.02   \n",
       "Other / Non-Disclosed              15                  $3.35   \n",
       "\n",
       "                      Total Purchase Price Avg Total Purchase per Person  \n",
       "Female                             $361.94                         $4.47  \n",
       "Male                              $1967.64                         $4.07  \n",
       "Other / Non-Disclosed               $50.19                         $4.56  "
      ]
     },
     "execution_count": 132,
     "metadata": {},
     "output_type": "execute_result"
    }
   ],
   "source": [
    "## Purchasing Analysis (Gender)\n",
    "\n",
    "# Should be calculated from the total pool of players\n",
    "allMales = purchase_df.Gender == 'Male'\n",
    "allFemales = purchase_df.Gender == 'Female'\n",
    "allNonDisclosed = purchase_df.Gender == 'Other / Non-Disclosed'\n",
    "\n",
    "# Purchase count according to gender\n",
    "malePurchaseCount = len(purchase_df[allMales])\n",
    "femalePurchaseCount = len(purchase_df[allFemales])\n",
    "nonDisclosedPurchaseCount = len(purchase_df[allNonDisclosed])\n",
    "\n",
    "# Total Purchase Price according to gender\n",
    "totalMalePurchasePrice = round(purchase_df.Price[allMales].sum(), 2)\n",
    "totalFemalePurchasePrice = round(purchase_df.Price[allFemales].sum(), 2)\n",
    "totalNonDisclosedPurchasePrice = round(purchase_df.Price[allNonDisclosed].sum(), 2)\n",
    "\n",
    "# Average Purchase Price according to gender\n",
    "avgMalePurchasePrice = round(totalMalePurchasePrice/malePurchaseCount, 2) \n",
    "avgFemalePurchasePrice = round(totalFemalePurchasePrice/femalePurchaseCount, 2) \n",
    "avgNonDisclosedPurchasePrice = round(totalNonDisclosedPurchasePrice/nonDisclosedPurchaseCount,2)\n",
    "\n",
    "# Average Total Purchase Per Person\n",
    "avgTotalPurchaseMale = round(totalMalePurchasePrice/uniqueMaleCount, 2)\n",
    "avgTotalPurchaseFemale = round(totalFemalePurchasePrice/uniqueFemaleCount, 2)\n",
    "avtTotalPurchaseNonDisclosed = round(totalNonDisclosedPurchasePrice/uniqueNonDisclosedCount, 2)\n",
    "\n",
    "# make data frame\n",
    "genderPurchasingAnalysis_df = pd.DataFrame(data={'Purchase Count':[femalePurchaseCount, malePurchaseCount, nonDisclosedPurchaseCount], \n",
    "                                                 'Average Purchase Price':[f'${avgFemalePurchasePrice}', f'${avgMalePurchasePrice}', f'${avgNonDisclosedPurchasePrice}'],\n",
    "                                                 'Total Purchase Price':[f'${totalFemalePurchasePrice}', f'${totalMalePurchasePrice}', f'${totalNonDisclosedPurchasePrice}'],\n",
    "                                                 'Avg Total Purchase per Person':[f'${avgTotalPurchaseFemale}', f'${avgTotalPurchaseMale}', f'${avtTotalPurchaseNonDisclosed}'] })\n",
    "\n",
    "# add row titles\n",
    "genderPurchasingAnalysis_df.index = ['Female', 'Male', 'Other / Non-Disclosed'] \n",
    "\n",
    "# show data frame\n",
    "genderPurchasingAnalysis_df"
   ]
  },
  {
   "cell_type": "code",
   "execution_count": null,
   "metadata": {},
   "outputs": [],
   "source": [
    "## Female Purchasing Analysis\n",
    "averageFemalePurchasePrice = purchase_df.Price[theFemales].mean()\n",
    "averageFemalePurchasePrice"
   ]
  },
  {
   "cell_type": "code",
   "execution_count": 56,
   "metadata": {},
   "outputs": [
    {
     "name": "stdout",
     "output_type": "stream",
     "text": [
      "Player Count\n",
      "The total number of players is 780. However, as some players appear to have played multiple times, the number of unique players is 576.\n",
      "\n",
      "Purchasing Analysis (Total)\n",
      "The number of unique items is 179.\n",
      "The average purchase price is $3.05. This is based on the # of total players.\n",
      "The total revenue is $2379.77. This is based on the # of total players.\n",
      "\n",
      "Gender Demographics\n",
      "Percentage and Count of Male Players: 484 (84.03%. This based on the # of unique players.\n",
      "Percentage and Count of Female Players: 81, (14.06%). This based on the # of unique players.\n",
      "Percentage and Count of Non-Disclosed Players: 11 (1.91%). This based on the # of unique players.\n",
      "\n",
      "Purchasing Analysis (Gender)\n",
      "The total purchase count by males, females, and other/non-disclosed individuals is 652, 113, and 15, respectively.\n",
      "The average purchase count by males, females, and other/non-disclosed individuals is $3.02, $3.2, and $3.35, respectively.\n",
      "The total purchase value by males, females, and other/non-disclosed individuals is $1967.64, $361.94, and $50.19, respectively.\n",
      "MISSING LAST BULLET \n",
      "\n",
      "Age Demographics\n"
     ]
    }
   ],
   "source": [
    "# print the summary: \n",
    "print(\"Player Count\")\n",
    "print(f'The total number of players is {totalPlayerCount}. However, as some players appear to have played multiple times, the number of unique players is {numUniquePlayers}.\\n')\n",
    "print(\"Purchasing Analysis (Total)\")\n",
    "print(f'The number of unique items is {numUniqueItems}.')\n",
    "print(f'The average purchase price is ${avgPurchasePrice}. This is based on the # of total players.')\n",
    "print(f'The total revenue is ${sumPurchasePrice}. This is based on the # of total players.\\n')\n",
    "print(\"Gender Demographics\")\n",
    "print(f'Percentage and Count of Male Players: {maleCount} ({round(malePercent,2)}%. This based on the # of unique players.')\n",
    "print(f'Percentage and Count of Female Players: {femaleCount}, ({round(femalePercent,2)}%). This based on the # of unique players.')\n",
    "print(f'Percentage and Count of Non-Disclosed Players: {nonDisclosedCount} ({round(nonDisclosedPercent,2)}%). This based on the # of unique players.\\n')\n",
    "print(\"Purchasing Analysis (Gender)\")\n",
    "print(f'The total purchase count by males, females, and other/non-disclosed individuals is {malePurchaseCount}, {femalePurchaseCount}, and {nonDisclosedPurchaseCount}, respectively.')\n",
    "print(f'The average purchase count by males, females, and other/non-disclosed individuals is ${avgMalePurchasePrice}, ${avgFemalePurchasePrice}, and ${avgNonDisclosedPurchasePrice}, respectively.')\n",
    "print(f'The total purchase value by males, females, and other/non-disclosed individuals is ${totalMalePurchasePrice}, ${totalFemalePurchasePrice}, and ${totalNonDisclosedPurchasePrice}, respectively.')\n",
    "print(\"MISSING LAST BULLET \\n\")\n",
    "print(\"Age Demographics\")"
   ]
  },
  {
   "cell_type": "code",
   "execution_count": null,
   "metadata": {},
   "outputs": [],
   "source": []
  },
  {
   "cell_type": "code",
   "execution_count": null,
   "metadata": {},
   "outputs": [],
   "source": []
  },
  {
   "cell_type": "code",
   "execution_count": null,
   "metadata": {},
   "outputs": [],
   "source": []
  },
  {
   "cell_type": "code",
   "execution_count": null,
   "metadata": {},
   "outputs": [],
   "source": []
  }
 ],
 "metadata": {
  "kernelspec": {
   "display_name": "Python 3",
   "language": "python",
   "name": "python3"
  },
  "language_info": {
   "codemirror_mode": {
    "name": "ipython",
    "version": 3
   },
   "file_extension": ".py",
   "mimetype": "text/x-python",
   "name": "python",
   "nbconvert_exporter": "python",
   "pygments_lexer": "ipython3",
   "version": "3.8.3"
  }
 },
 "nbformat": 4,
 "nbformat_minor": 4
}
